{
 "cells": [
  {
   "attachments": {},
   "cell_type": "markdown",
   "metadata": {},
   "source": [
    "# Weather files downloading code"
   ]
  },
  {
   "cell_type": "code",
   "execution_count": 17,
   "metadata": {},
   "outputs": [],
   "source": [
    "import requests\n",
    "import os\n",
    "import time\n",
    "from selenium.webdriver.common.by import By\n",
    "from selenium import webdriver\n",
    "from selenium.webdriver.chrome.service import Service\n",
    "from webdriver_manager.chrome import ChromeDriverManager #details: https://pypi.org/project/webdriver-manager/\n",
    "import pandas as pd"
   ]
  },
  {
   "cell_type": "code",
   "execution_count": 2,
   "metadata": {},
   "outputs": [],
   "source": [
    "data_dl_path = \"../storage/raw/historical_data/weather_data\"\n",
    "#data_dl_path = os.getcwd()+'/data/downloading/storage/'"
   ]
  },
  {
   "cell_type": "code",
   "execution_count": 3,
   "metadata": {},
   "outputs": [
    {
     "name": "stderr",
     "output_type": "stream",
     "text": [
      "[WDM] - Downloading: 100%|██████████| 8.81M/8.81M [00:00<00:00, 31.8MB/s]\n"
     ]
    }
   ],
   "source": [
    "options = webdriver.ChromeOptions()\n",
    "prefs = {\"download.default_directory\" : data_dl_path}\n",
    "options.add_experimental_option(\"prefs\",prefs)\n",
    "driver = webdriver.Chrome(service=Service(ChromeDriverManager().install()), options=options)\n",
    "\n",
    "driver.get('https://datos.madrid.es/sites/v/index.jsp?vgnextoid=fa8357cec5efa610VgnVCM1000001d4a900aRCRD&vgnextchannel=374512b9ace9f310VgnVCM100000171f5a0aRCRD')\n"
   ]
  },
  {
   "cell_type": "code",
   "execution_count": 4,
   "metadata": {},
   "outputs": [],
   "source": [
    "# click in accept cookies\n",
    "time.sleep(3)\n",
    "\n",
    "# Accept cookies\n",
    "cookies_button = driver.find_element('xpath','//*[@id=\"iam-cookie-control-modal-action-primary\"]')\n",
    "\n",
    "# Interact with the element by clicking it\n",
    "cookies_button.click()\n",
    "\n",
    "# click on \"ver mas enlaces\" button\n",
    "see_more_button = driver.find_element(\"xpath\", '//*[@id=\"readspeaker\"]/div[3]/div/div[1]/div/a')\n",
    "see_more_button.click()"
   ]
  },
  {
   "cell_type": "code",
   "execution_count": 5,
   "metadata": {},
   "outputs": [],
   "source": [
    "links = driver.find_elements(By.TAG_NAME, 'a')"
   ]
  },
  {
   "cell_type": "code",
   "execution_count": 6,
   "metadata": {},
   "outputs": [],
   "source": [
    "hrefs = map(lambda link: link.get_attribute(\"href\") if link.get_attribute('class') == \"asociada-link ico-csv\" else None, links)\n",
    "clean_hrefs =list(filter(lambda link: link != None , hrefs))"
   ]
  },
  {
   "cell_type": "code",
   "execution_count": 7,
   "metadata": {},
   "outputs": [],
   "source": [
    "# The hrefs list is inversely ordered by year and month.\n",
    "# it starts at april 2023, and ends at genuary 2019\n",
    "hrefs= []\n",
    "for link in links:\n",
    "    if link.get_attribute('class') == \"asociada-link ico-csv\":\n",
    "        hrefs.append(link.get_attribute('href'))\n",
    "time.sleep(5)\n",
    "driver.close()"
   ]
  },
  {
   "cell_type": "code",
   "execution_count": 8,
   "metadata": {},
   "outputs": [],
   "source": [
    "for href in hrefs:\n",
    "    r = requests.get(href, allow_redirects=True)\n",
    "    filename = r.url.split(\"/\")[-1]\n",
    "    open(os.path.join(data_dl_path, filename), 'wb').write(r.content)\n"
   ]
  },
  {
   "attachments": {},
   "cell_type": "markdown",
   "metadata": {},
   "source": [
    "# Check consistence between weather files"
   ]
  },
  {
   "attachments": {},
   "cell_type": "markdown",
   "metadata": {},
   "source": [
    "We are going to check if all weather files contain the same columns to ensure there are no format mismatches"
   ]
  },
  {
   "cell_type": "code",
   "execution_count": 15,
   "metadata": {},
   "outputs": [],
   "source": [
    "filenames = [filename for filename in os.listdir(data_dl_path)]\n",
    "filenames = list(filter(lambda filename: filename != \".DS_Store\",filenames))"
   ]
  },
  {
   "cell_type": "code",
   "execution_count": 20,
   "metadata": {},
   "outputs": [],
   "source": [
    "columns_df = pd.DataFrame()\n",
    "for i,filename in enumerate(filenames):\n",
    "    path = os.path.join(data_dl_path, filename)\n",
    "    df = pd.read_csv(path, sep=\";\")\n",
    "    columns = df.columns\n",
    "\n",
    "    columns_df.loc[i, columns] = filename\n"
   ]
  },
  {
   "cell_type": "code",
   "execution_count": 25,
   "metadata": {},
   "outputs": [
    {
     "data": {
      "text/plain": [
       "0"
      ]
     },
     "execution_count": 25,
     "metadata": {},
     "output_type": "execute_result"
    }
   ],
   "source": [
    "columns_df.isna().sum().sum()"
   ]
  },
  {
   "attachments": {},
   "cell_type": "markdown",
   "metadata": {},
   "source": [
    "All files contain the same columns, which means that all files have the same format. Hopefully this means the code built for one month is useful for all the months."
   ]
  }
 ],
 "metadata": {
  "kernelspec": {
   "display_name": "base",
   "language": "python",
   "name": "python3"
  },
  "language_info": {
   "codemirror_mode": {
    "name": "ipython",
    "version": 3
   },
   "file_extension": ".py",
   "mimetype": "text/x-python",
   "name": "python",
   "nbconvert_exporter": "python",
   "pygments_lexer": "ipython3",
   "version": "3.9.16"
  },
  "orig_nbformat": 4
 },
 "nbformat": 4,
 "nbformat_minor": 2
}
